{
 "cells": [
  {
   "cell_type": "code",
   "execution_count": 14,
   "metadata": {},
   "outputs": [],
   "source": [
    "import pandas as pd\n",
    "pd.set_option('display.max_columns', None)\n",
    "pd.set_option('display.max_rows', None)"
   ]
  },
  {
   "cell_type": "code",
   "execution_count": 2,
   "metadata": {},
   "outputs": [],
   "source": [
    "dfs=pd.read_html('https://en.wikipedia.org/wiki/List_of_postal_codes_of_Canada:_M')"
   ]
  },
  {
   "cell_type": "code",
   "execution_count": 4,
   "metadata": {},
   "outputs": [],
   "source": [
    "df=dfs[0] #find the table"
   ]
  },
  {
   "cell_type": "code",
   "execution_count": 6,
   "metadata": {},
   "outputs": [
    {
     "data": {
      "text/plain": [
       "Index(['Postal Code', 'Borough', 'Neighborhood'], dtype='object')"
      ]
     },
     "execution_count": 6,
     "metadata": {},
     "output_type": "execute_result"
    }
   ],
   "source": [
    "df.columns"
   ]
  },
  {
   "cell_type": "code",
   "execution_count": 8,
   "metadata": {},
   "outputs": [
    {
     "data": {
      "text/html": [
       "<div>\n",
       "<style scoped>\n",
       "    .dataframe tbody tr th:only-of-type {\n",
       "        vertical-align: middle;\n",
       "    }\n",
       "\n",
       "    .dataframe tbody tr th {\n",
       "        vertical-align: top;\n",
       "    }\n",
       "\n",
       "    .dataframe thead th {\n",
       "        text-align: right;\n",
       "    }\n",
       "</style>\n",
       "<table border=\"1\" class=\"dataframe\">\n",
       "  <thead>\n",
       "    <tr style=\"text-align: right;\">\n",
       "      <th></th>\n",
       "      <th>Postal Code</th>\n",
       "      <th>Borough</th>\n",
       "      <th>Neighborhood</th>\n",
       "    </tr>\n",
       "  </thead>\n",
       "  <tbody>\n",
       "    <tr>\n",
       "      <td>0</td>\n",
       "      <td>M1A</td>\n",
       "      <td>Not assigned</td>\n",
       "      <td>NaN</td>\n",
       "    </tr>\n",
       "    <tr>\n",
       "      <td>1</td>\n",
       "      <td>M2A</td>\n",
       "      <td>Not assigned</td>\n",
       "      <td>NaN</td>\n",
       "    </tr>\n",
       "    <tr>\n",
       "      <td>2</td>\n",
       "      <td>M3A</td>\n",
       "      <td>North York</td>\n",
       "      <td>Parkwoods</td>\n",
       "    </tr>\n",
       "    <tr>\n",
       "      <td>3</td>\n",
       "      <td>M4A</td>\n",
       "      <td>North York</td>\n",
       "      <td>Victoria Village</td>\n",
       "    </tr>\n",
       "    <tr>\n",
       "      <td>4</td>\n",
       "      <td>M5A</td>\n",
       "      <td>Downtown Toronto</td>\n",
       "      <td>Regent Park, Harbourfront</td>\n",
       "    </tr>\n",
       "    <tr>\n",
       "      <td>...</td>\n",
       "      <td>...</td>\n",
       "      <td>...</td>\n",
       "      <td>...</td>\n",
       "    </tr>\n",
       "    <tr>\n",
       "      <td>175</td>\n",
       "      <td>M5Z</td>\n",
       "      <td>Not assigned</td>\n",
       "      <td>NaN</td>\n",
       "    </tr>\n",
       "    <tr>\n",
       "      <td>176</td>\n",
       "      <td>M6Z</td>\n",
       "      <td>Not assigned</td>\n",
       "      <td>NaN</td>\n",
       "    </tr>\n",
       "    <tr>\n",
       "      <td>177</td>\n",
       "      <td>M7Z</td>\n",
       "      <td>Not assigned</td>\n",
       "      <td>NaN</td>\n",
       "    </tr>\n",
       "    <tr>\n",
       "      <td>178</td>\n",
       "      <td>M8Z</td>\n",
       "      <td>Etobicoke</td>\n",
       "      <td>Mimico NW, The Queensway West, South of Bloor,...</td>\n",
       "    </tr>\n",
       "    <tr>\n",
       "      <td>179</td>\n",
       "      <td>M9Z</td>\n",
       "      <td>Not assigned</td>\n",
       "      <td>NaN</td>\n",
       "    </tr>\n",
       "  </tbody>\n",
       "</table>\n",
       "<p>180 rows × 3 columns</p>\n",
       "</div>"
      ],
      "text/plain": [
       "    Postal Code           Borough  \\\n",
       "0           M1A      Not assigned   \n",
       "1           M2A      Not assigned   \n",
       "2           M3A        North York   \n",
       "3           M4A        North York   \n",
       "4           M5A  Downtown Toronto   \n",
       "..          ...               ...   \n",
       "175         M5Z      Not assigned   \n",
       "176         M6Z      Not assigned   \n",
       "177         M7Z      Not assigned   \n",
       "178         M8Z         Etobicoke   \n",
       "179         M9Z      Not assigned   \n",
       "\n",
       "                                          Neighborhood  \n",
       "0                                                  NaN  \n",
       "1                                                  NaN  \n",
       "2                                            Parkwoods  \n",
       "3                                     Victoria Village  \n",
       "4                            Regent Park, Harbourfront  \n",
       "..                                                 ...  \n",
       "175                                                NaN  \n",
       "176                                                NaN  \n",
       "177                                                NaN  \n",
       "178  Mimico NW, The Queensway West, South of Bloor,...  \n",
       "179                                                NaN  \n",
       "\n",
       "[180 rows x 3 columns]"
      ]
     },
     "execution_count": 8,
     "metadata": {},
     "output_type": "execute_result"
    }
   ],
   "source": [
    "df"
   ]
  },
  {
   "cell_type": "code",
   "execution_count": 10,
   "metadata": {},
   "outputs": [],
   "source": [
    "df['Borough']!='Not assigned'\n",
    "df=df[df['Borough']!='Not assigned']"
   ]
  },
  {
   "cell_type": "code",
   "execution_count": 15,
   "metadata": {},
   "outputs": [
    {
     "data": {
      "text/plain": [
       "Downsview                                                                                                                                 4\n",
       "Don Mills                                                                                                                                 2\n",
       "Church and Wellesley                                                                                                                      1\n",
       "Willowdale, Newtonbrook                                                                                                                   1\n",
       "Garden District, Ryerson                                                                                                                  1\n",
       "Richmond, Adelaide, King                                                                                                                  1\n",
       "Brockton, Parkdale Village, Exhibition Place                                                                                              1\n",
       "The Kingsway, Montgomery Road, Old Mill North                                                                                             1\n",
       "St. James Town                                                                                                                            1\n",
       "Christie                                                                                                                                  1\n",
       "South Steeles, Silverstone, Humbergate, Jamestown, Mount Olive, Beaumond Heights, Thistletown, Albion Gardens                             1\n",
       "North Park, Maple Leaf Park, Upwood Park                                                                                                  1\n",
       "Humberlea, Emery                                                                                                                          1\n",
       "Kennedy Park, Ionview, East Birchmount Park                                                                                               1\n",
       "Harbourfront East, Union Station, Toronto Islands                                                                                         1\n",
       "North Toronto West, Lawrence Park                                                                                                         1\n",
       "Scarborough Village                                                                                                                       1\n",
       "East Toronto, Broadview North (Old East York)                                                                                             1\n",
       "Fairview, Henry Farm, Oriole                                                                                                              1\n",
       "India Bazaar, The Beaches West                                                                                                            1\n",
       "Milliken, Agincourt North, Steeles East, L'Amoreaux East                                                                                  1\n",
       "Roselawn                                                                                                                                  1\n",
       "Rosedale                                                                                                                                  1\n",
       "Dorset Park, Wexford Heights, Scarborough Town Centre                                                                                     1\n",
       "Woodbine Heights                                                                                                                          1\n",
       "Glencairn                                                                                                                                 1\n",
       "Commerce Court, Victoria Hotel                                                                                                            1\n",
       "Clarks Corners, Tam O'Shanter, Sullivan                                                                                                   1\n",
       "Moore Park, Summerhill East                                                                                                               1\n",
       "Berczy Park                                                                                                                               1\n",
       "Parkview Hill, Woodbine Gardens                                                                                                           1\n",
       "Agincourt                                                                                                                                 1\n",
       "Studio District                                                                                                                           1\n",
       "Malvern, Rouge                                                                                                                            1\n",
       "St. James Town, Cabbagetown                                                                                                               1\n",
       "Upper Rouge                                                                                                                               1\n",
       "Willowdale, Willowdale West                                                                                                               1\n",
       "Bathurst Manor, Wilson Heights, Downsview North                                                                                           1\n",
       "Dufferin, Dovercourt Village                                                                                                              1\n",
       "High Park, The Junction South                                                                                                             1\n",
       "Guildwood, Morningside, West Hill                                                                                                         1\n",
       "Forest Hill North & West, Forest Hill Road Park                                                                                           1\n",
       "Westmount                                                                                                                                 1\n",
       "Kingsview Village, St. Phillips, Martin Grove Gardens, Richview Gardens                                                                   1\n",
       "Wexford, Maryvale                                                                                                                         1\n",
       "Cedarbrae                                                                                                                                 1\n",
       "York Mills, Silver Hills                                                                                                                  1\n",
       "Central Bay Street                                                                                                                        1\n",
       "Alderwood, Long Branch                                                                                                                    1\n",
       "New Toronto, Mimico South, Humber Bay Shores                                                                                              1\n",
       "Rouge Hill, Port Union, Highland Creek                                                                                                    1\n",
       "Canada Post Gateway Processing Centre                                                                                                     1\n",
       "The Annex, North Midtown, Yorkville                                                                                                       1\n",
       "Old Mill South, King's Mill Park, Sunnylea, Humber Bay, Mimico NE, The Queensway East, Royal York South East, Kingsway Park South East    1\n",
       "Lawrence Manor, Lawrence Heights                                                                                                          1\n",
       "Golden Mile, Clairlea, Oakridge                                                                                                           1\n",
       "First Canadian Place, Underground city                                                                                                    1\n",
       "Woburn                                                                                                                                    1\n",
       "CN Tower, King and Spadina, Railway Lands, Harbourfront West, Bathurst Quay, South Niagara, Island airport                                1\n",
       "Birch Cliff, Cliffside West                                                                                                               1\n",
       "Thorncliffe Park                                                                                                                          1\n",
       "Parkdale, Roncesvalles                                                                                                                    1\n",
       "University of Toronto, Harbord                                                                                                            1\n",
       "Del Ray, Mount Dennis, Keelsdale and Silverthorn                                                                                          1\n",
       "Lawrence Park                                                                                                                             1\n",
       "Kensington Market, Chinatown, Grange Park                                                                                                 1\n",
       "Parkwoods                                                                                                                                 1\n",
       "Humber Summit                                                                                                                             1\n",
       "Regent Park, Harbourfront                                                                                                                 1\n",
       "Queen's Park, Ontario Provincial Government                                                                                               1\n",
       "The Beaches                                                                                                                               1\n",
       "Victoria Village                                                                                                                          1\n",
       "Business reply mail Processing Centre, South Central Letter Processing Plant Toronto                                                      1\n",
       "Northwood Park, York University                                                                                                           1\n",
       "Islington Avenue, Humber Valley Village                                                                                                   1\n",
       "Runnymede, The Junction North                                                                                                             1\n",
       "Stn A PO Boxes                                                                                                                            1\n",
       "Humewood-Cedarvale                                                                                                                        1\n",
       "York Mills West                                                                                                                           1\n",
       "Bedford Park, Lawrence Manor East                                                                                                         1\n",
       "Davisville                                                                                                                                1\n",
       "West Deane Park, Princess Gardens, Martin Grove, Islington, Cloverdale                                                                    1\n",
       "Toronto Dominion Centre, Design Exchange                                                                                                  1\n",
       "Weston                                                                                                                                    1\n",
       "The Danforth West, Riverdale                                                                                                              1\n",
       "Steeles West, L'Amoreaux West                                                                                                             1\n",
       "Leaside                                                                                                                                   1\n",
       "Little Portugal, Trinity                                                                                                                  1\n",
       "Davisville North                                                                                                                          1\n",
       "Mimico NW, The Queensway West, South of Bloor, Kingsway Park South West, Royal York South West                                            1\n",
       "Caledonia-Fairbanks                                                                                                                       1\n",
       "Willowdale, Willowdale East                                                                                                               1\n",
       "Northwest, West Humber - Clairville                                                                                                       1\n",
       "Hillcrest Village                                                                                                                         1\n",
       "Bayview Village                                                                                                                           1\n",
       "Cliffside, Cliffcrest, Scarborough Village West                                                                                           1\n",
       "Runnymede, Swansea                                                                                                                        1\n",
       "Summerhill West, Rathnelly, South Hill, Forest Hill SE, Deer Park                                                                         1\n",
       "Eringate, Bloordale Gardens, Old Burnhamthorpe, Markland Wood                                                                             1\n",
       "Name: Neighborhood, dtype: int64"
      ]
     },
     "execution_count": 15,
     "metadata": {},
     "output_type": "execute_result"
    }
   ],
   "source": [
    "df['Neighborhood'].value_counts()"
   ]
  },
  {
   "cell_type": "code",
   "execution_count": 22,
   "metadata": {},
   "outputs": [
    {
     "data": {
      "text/plain": [
       "0"
      ]
     },
     "execution_count": 22,
     "metadata": {},
     "output_type": "execute_result"
    }
   ],
   "source": [
    "df['Neighborhood'].isna().sum()  #check Nighborhood column"
   ]
  },
  {
   "cell_type": "code",
   "execution_count": 25,
   "metadata": {},
   "outputs": [
    {
     "data": {
      "text/plain": [
       "(103, 3)"
      ]
     },
     "execution_count": 25,
     "metadata": {},
     "output_type": "execute_result"
    }
   ],
   "source": [
    "df.shape  # the shape of df"
   ]
  }
 ],
 "metadata": {
  "kernelspec": {
   "display_name": "Python 3",
   "language": "python",
   "name": "python3"
  },
  "language_info": {
   "codemirror_mode": {
    "name": "ipython",
    "version": 3
   },
   "file_extension": ".py",
   "mimetype": "text/x-python",
   "name": "python",
   "nbconvert_exporter": "python",
   "pygments_lexer": "ipython3",
   "version": "3.7.4"
  }
 },
 "nbformat": 4,
 "nbformat_minor": 2
}
